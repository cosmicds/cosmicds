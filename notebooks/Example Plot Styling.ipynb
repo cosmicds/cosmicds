{
 "cells": [
  {
   "cell_type": "code",
   "execution_count": 9,
   "metadata": {
    "scrolled": false
   },
   "outputs": [
    {
     "data": {
      "application/vnd.jupyter.widget-view+json": {
       "model_id": "6b9fca1040374b6ab925615b94b01e02",
       "version_major": 2,
       "version_minor": 0
      },
      "text/plain": [
       "LayoutWidget(controls={'toolbar_selection_tools': BasicJupyterToolbar(tools_data={'bqplot:home': {'tooltip': '…"
      ]
     },
     "metadata": {},
     "output_type": "display_data"
    }
   ],
   "source": [
    "import numpy as np\n",
    "from glue_jupyter.bqplot.scatter import BqplotScatterView\n",
    "from glue_jupyter import JupyterApplication\n",
    "from glue.core import Data\n",
    "\n",
    "app = JupyterApplication()\n",
    "\n",
    "# Setup some random data\n",
    "def add_random_data():\n",
    "    rand_data = Data(distance=np.random.sample(30) * 500,\n",
    "                     velocity=np.random.sample(30) * 700000,\n",
    "                     label='random_data' + str(len(app.data_collection)))\n",
    "    app.data_collection.append(rand_data)   \n",
    "    \n",
    "add_random_data()\n",
    "add_random_data()\n",
    "\n",
    "# For different data sets to be shown on the same figure, their respective\n",
    "# data components have to be linked.\n",
    "app.add_link(app.data_collection[0], 'distance', app.data_collection[1], 'distance')\n",
    "app.add_link(app.data_collection[0], 'velocity', app.data_collection[1], 'velocity')\n",
    "\n",
    "# This would be equivalent to the items in `app._viewer_handlers`\n",
    "viewer = app.new_data_viewer(\n",
    "    BqplotScatterView,\n",
    "    show=True)\n",
    "\n",
    "viewer.add_data('random_data0')\n",
    "viewer.add_data('random_data1')\n",
    "\n",
    "# This is equivalent to the an item in `app.viewers`\n",
    "figure = viewer.figure_widget"
   ]
  },
  {
   "cell_type": "code",
   "execution_count": 10,
   "metadata": {},
   "outputs": [],
   "source": [
    "# https://readthedocs.org/projects/bqplot/downloads/pdf/stable/\n",
    "\n",
    "figure.background_style = {'fill': '#e3f2f4'}\n",
    "figure.fig_margin = {'left': 100, 'bottom': 60, 'top': 40, 'right': 100}\n",
    "\n",
    "# x axis\n",
    "figure.axes[0].tick_format = '.0f'\n",
    "# figure.axes[0].num_ticks = 5\n",
    "figure.axes[0].grid_color = '#913e08'\n",
    "# figure.axes[0].grid_lines = 'dashed'\n",
    "figure.axes[0].label_offset = '50px'\n",
    "# available fonts are particular to the environment - whatever your browser has access to, or whatever is loaded by vuetify\n",
    "# In our cosmicds repo - we have a folder where we can put in a link to, say, google fonts, whatever we want to use\n",
    "# and app will have access.\n",
    "# like in this file https://github.com/glue-viz/cosmicds/blob/main/share/jupyter/voila/templates/cosmicds-default/index.html.j2#L20\n",
    "# this call: <link rel=\"stylesheet\" href=\"https://cdn.jsdelivr.net/npm/@fortawesome/fontawesome-free@^5/css/all.min.css\" type=\"text/css\" />\n",
    "figure.axes[0].tick_style = {'font-family': \"Gill Sans\", 'font-size': 30}\n",
    "figure.axes[0].label_style = {'font-family': \"Gill Sans\", 'font-size': 100}\n",
    "figure.axes[0].label = \"Distance (Mpc)\"\n",
    "\n",
    "# y axis\n",
    "figure.axes[1].tick_format = \",.0d\"\n",
    "#figure.axes[1].num_ticks = 5\n",
    "figure.axes[1].tick_values = np.array([0, 200000, 400000, 600000])\n",
    "figure.axes[1].tick_style = {'font-family': \"Gill Sans\",\n",
    "                             'font-size': 30}\n",
    "figure.axes[1].label_offset = '75px'\n",
    "#figure.axes[1].grid_lines = 'solid'\n",
    "figure.axes[1].label_style = {'font-family': \"Gill Sans\", 'font-size': 100}\n",
    "figure.axes[1].label = \"Velocity (km/s)\"\n",
    "\n",
    "# These settings are controlled by the glue state/layer classes - can look in bqplot code to see what options are available\n",
    "# https://bqplot.readthedocs.io/en/latest/_generate/bqplot.marks.Scatter.html\n",
    "viewer.layers[0].scatter.marker = \"cross\"\n",
    "viewer.layers[0].state.size = 4\n",
    "viewer.layers[0].state.color = \"#e69600\"\n",
    "\n",
    "# These settings are controlled by the glue state/layer classes\n",
    "viewer.layers[1].scatter.marker = \"arrow\"\n",
    "viewer.layers[1].state.size = 4\n",
    "viewer.layers[1].state.color = \"#820ebc\""
   ]
  },
  {
   "cell_type": "code",
   "execution_count": null,
   "metadata": {},
   "outputs": [],
   "source": []
  },
  {
   "cell_type": "code",
   "execution_count": null,
   "metadata": {},
   "outputs": [],
   "source": []
  }
 ],
 "metadata": {
  "kernelspec": {
   "display_name": "Python 3",
   "language": "python",
   "name": "python3"
  },
  "language_info": {
   "codemirror_mode": {
    "name": "ipython",
    "version": 3
   },
   "file_extension": ".py",
   "mimetype": "text/x-python",
   "name": "python",
   "nbconvert_exporter": "python",
   "pygments_lexer": "ipython3",
   "version": "3.8.5"
  }
 },
 "nbformat": 4,
 "nbformat_minor": 5
}
