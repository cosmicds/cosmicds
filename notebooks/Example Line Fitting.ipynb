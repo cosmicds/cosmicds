{
 "cells": [
  {
   "cell_type": "code",
   "execution_count": 2,
   "id": "67b1562c",
   "metadata": {},
   "outputs": [
    {
     "data": {
      "application/vnd.jupyter.widget-view+json": {
       "model_id": "d79bf34a23074fd8ae77ce8dc2fc3a02",
       "version_major": 2,
       "version_minor": 0
      },
      "text/plain": [
       "FittingTest(events=['clear_lines', 'fit_lines'], viewers={'viewer': ViewerLayout(controls={'toolbar_selection_…"
      ]
     },
     "metadata": {},
     "output_type": "display_data"
    }
   ],
   "source": [
    "from fitting_demo import FittingTest\n",
    "test = FittingTest()\n",
    "test"
   ]
  },
  {
   "cell_type": "code",
   "execution_count": null,
   "id": "48507707",
   "metadata": {},
   "outputs": [],
   "source": []
  }
 ],
 "metadata": {
  "kernelspec": {
   "display_name": "cds-line-fit",
   "language": "python",
   "name": "cds-line-fit"
  },
  "language_info": {
   "codemirror_mode": {
    "name": "ipython",
    "version": 3
   },
   "file_extension": ".py",
   "mimetype": "text/x-python",
   "name": "python",
   "nbconvert_exporter": "python",
   "pygments_lexer": "ipython3",
   "version": "3.9.6"
  }
 },
 "nbformat": 4,
 "nbformat_minor": 5
}
