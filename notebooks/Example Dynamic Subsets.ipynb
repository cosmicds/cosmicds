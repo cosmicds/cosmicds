{
 "cells": [
  {
   "cell_type": "code",
   "execution_count": 1,
   "id": "307bc8ba",
   "metadata": {
    "scrolled": false
   },
   "outputs": [
    {
     "name": "stderr",
     "output_type": "stream",
     "text": [
      "/Users/nmearl/.pyenv/versions/3.9.1/envs/cosmicds/lib/python3.9/site-packages/glue/external/echo/__init__.py:3: UserWarning: glue.external.echo is deprecated, import from echo directly instead\n",
      "  warnings.warn('glue.external.echo is deprecated, import from echo directly instead')\n"
     ]
    },
    {
     "data": {
      "application/vnd.jupyter.widget-view+json": {
       "model_id": "605792e6cc534a0dbe5a4dbe484f5c06",
       "version_major": 2,
       "version_minor": 0
      },
      "text/plain": [
       "LayoutWidget(controls={'toolbar_selection_tools': BasicJupyterToolbar(tools_data={'bqplot:home': {'tooltip': '…"
      ]
     },
     "metadata": {},
     "output_type": "display_data"
    }
   ],
   "source": [
    "import numpy as np\n",
    "from glue_jupyter.bqplot.scatter import BqplotScatterView\n",
    "from glue_jupyter import JupyterApplication\n",
    "from glue.core import Data\n",
    "\n",
    "app = JupyterApplication()\n",
    "\n",
    "# Setup some random data\n",
    "def add_random_data():\n",
    "    rand_data = Data(distance=np.random.sample(10) * 2e6,\n",
    "                     velocity=np.random.sample(10) * 1000,\n",
    "                     class_id=[np.random.randint(0, 3) for _ in range(10)],\n",
    "                     student_id=np.arange(10) + 1,\n",
    "                     galaxy_type=[['spiral', 'elliptical', 'irregular'][np.random.randint(0, 3)] for _ in range(10)],\n",
    "                     label='random_data' + str(len(app.data_collection)))\n",
    "    app.data_collection.append(rand_data)\n",
    "    \n",
    "add_random_data()\n",
    "\n",
    "# This would be equivalent to the items in `app._viewer_handlers`\n",
    "viewer = app.new_data_viewer(\n",
    "    BqplotScatterView,\n",
    "    show=True)\n",
    "\n",
    "viewer.add_data('random_data0')\n",
    "\n",
    "data = app.data_collection[0]\n",
    "viewer.state.x_att = data.id['distance']\n",
    "viewer.state.y_att = data.id['velocity']\n",
    "\n",
    "# This is equivalent to the an item in `app.viewers`\n",
    "figure = viewer.figure_widget"
   ]
  },
  {
   "cell_type": "code",
   "execution_count": 3,
   "id": "ed95d870",
   "metadata": {
    "scrolled": false
   },
   "outputs": [
    {
     "data": {
      "application/vnd.jupyter.widget-view+json": {
       "model_id": "979d14d0fd0f44e59136004b89d3d447",
       "version_major": 2,
       "version_minor": 0
      },
      "text/plain": [
       "DataControls(cls_items=[0, 1, 2], events=['class_selected', 'galaxy_selected'], gal_items=['spiral', 'elliptic…"
      ]
     },
     "metadata": {},
     "output_type": "display_data"
    }
   ],
   "source": [
    "DataControls()\n",
    "# app.data_collection.subset_groups[0].subsets[0]"
   ]
  },
  {
   "cell_type": "code",
   "execution_count": 2,
   "id": "d1ad7757",
   "metadata": {},
   "outputs": [],
   "source": [
    "from ipyvuetify import VuetifyTemplate\n",
    "from traitlets import Unicode, List\n",
    "\n",
    "class DataControls(VuetifyTemplate):\n",
    "    template = Unicode(\"\"\"\n",
    "<template>\n",
    "  <v-container fluid>\n",
    "    <v-row>\n",
    "      <v-col cols=\"6\">\n",
    "        <v-combobox\n",
    "          v-model=\"gal_select\"\n",
    "          :items=\"gal_items\"\n",
    "          label=\"Galaxy Type\"\n",
    "          multiple\n",
    "          outlined\n",
    "          dense\n",
    "          @change=\"galaxy_selected\"\n",
    "        ></v-combobox>\n",
    "      </v-col>\n",
    "      <v-col cols=\"6\">\n",
    "        <v-combobox\n",
    "          v-model=\"cls_select\"\n",
    "          :items=\"cls_items\"\n",
    "          label=\"Class ID\"\n",
    "          multiple\n",
    "          outlined\n",
    "          dense\n",
    "          @change=\"class_selected\"\n",
    "        ></v-combobox>\n",
    "      </v-col>\n",
    "    </v-row>\n",
    "  </v-container>\n",
    "</template>\n",
    "    \"\"\").tag(sync=True)\n",
    "    \n",
    "    gal_items = List(['spiral', 'elliptical', 'irregular']).tag(sync=True)\n",
    "    gal_select = List([]).tag(sync=True)\n",
    "    \n",
    "    cls_items = List(set(app.data_collection[0]['class_id'])).tag(sync=True)\n",
    "    cls_select = List([]).tag(sync=True)\n",
    "    \n",
    "    def __init__(self, *args, **kwargs):\n",
    "        super().__init__(*args, **kwargs)\n",
    "        \n",
    "        self.gal_state = None\n",
    "        self.cls_state = None\n",
    "        \n",
    "    def update_subset_state(self):\n",
    "        for ssgrp in app.data_collection.subset_groups:\n",
    "            app.data_collection.remove_subset_group(ssgrp)\n",
    "            \n",
    "        if self.gal_state is None and self.cls_state is None:\n",
    "            return\n",
    "        \n",
    "        if self.gal_state is not None and self.cls_state is None:\n",
    "            state = self.gal_state\n",
    "        elif self.gal_state is None and self.cls_state is not None:\n",
    "            state = self.cls_state\n",
    "        else:\n",
    "            state = self.gal_state & self.cls_state\n",
    "        \n",
    "        label = 'Selected'\n",
    "        subset_group = app.data_collection.new_subset_group(label, state)\n",
    "        subset_group.style.color = '#ff0000'\n",
    "        subset_group.style.alpha = 1\n",
    "        \n",
    "    def vue_galaxy_selected(self, event):\n",
    "        data = app.data_collection[0]\n",
    "        if len(event) > 0:\n",
    "            self.gal_state = np.bitwise_or.reduce([data.id['galaxy_type'] == x for x in event])\n",
    "        else:\n",
    "            self.gal_state = None\n",
    "        self.update_subset_state()\n",
    "        \n",
    "    def vue_class_selected(self, event):\n",
    "        data = app.data_collection[0]\n",
    "        if len(event) > 0:\n",
    "            self.cls_state = np.bitwise_or.reduce([data.id['class_id'] == x for x in event])\n",
    "        else:\n",
    "            self.cls_state = None\n",
    "        self.update_subset_state()\n",
    "    "
   ]
  },
  {
   "cell_type": "code",
   "execution_count": null,
   "id": "a2c865bf",
   "metadata": {},
   "outputs": [],
   "source": []
  }
 ],
 "metadata": {
  "kernelspec": {
   "display_name": "Python 3 (ipykernel)",
   "language": "python",
   "name": "python3"
  },
  "language_info": {
   "codemirror_mode": {
    "name": "ipython",
    "version": 3
   },
   "file_extension": ".py",
   "mimetype": "text/x-python",
   "name": "python",
   "nbconvert_exporter": "python",
   "pygments_lexer": "ipython3",
   "version": "3.9.1"
  }
 },
 "nbformat": 4,
 "nbformat_minor": 5
}
