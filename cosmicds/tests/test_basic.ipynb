{
 "cells": [
  {
   "cell_type": "code",
   "execution_count": 3,
   "source": [
    "from cosmicds.app import Application\n",
    "from glue.core.state_objects import State\n",
    "\n",
    "def test_instantiate():\n",
    "    app = Application()\n",
    "    return issubclass(type(app.state), State)"
   ],
   "outputs": [],
   "metadata": {}
  }
 ],
 "metadata": {
  "orig_nbformat": 4,
  "language_info": {
   "name": "python",
   "version": "3.9.7",
   "mimetype": "text/x-python",
   "codemirror_mode": {
    "name": "ipython",
    "version": 3
   },
   "pygments_lexer": "ipython3",
   "nbconvert_exporter": "python",
   "file_extension": ".py"
  },
  "kernelspec": {
   "name": "python3",
   "display_name": "Python 3.9.7 64-bit ('cds-test-fix': conda)"
  },
  "interpreter": {
   "hash": "be6dfa053c100d5340b37ba82a9c797d1598809b9fda1ab4814b300c86f797b8"
  }
 },
 "nbformat": 4,
 "nbformat_minor": 2
}