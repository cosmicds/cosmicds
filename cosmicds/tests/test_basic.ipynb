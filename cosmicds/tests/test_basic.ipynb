{
 "cells": [
  {
   "cell_type": "code",
   "execution_count": 3,
   "metadata": {},
   "outputs": [],
   "source": [
    "from cosmicds.app import Application\n",
    "from glue.core.state_objects import State\n",
    "\n",
    "def test_instantiate():\n",
    "    app = Application()\n",
    "    return issubclass(type(app.state), State)"
   ]
  },
  {
   "cell_type": "code",
   "execution_count": null,
   "metadata": {},
   "outputs": [],
   "source": [
    "def ipykernel_filename():\n",
    "    import ipykernel\n",
    "    return ipykernel.connect.get_connection_file()"
   ]
  },
  {
   "cell_type": "code",
   "execution_count": null,
   "metadata": {},
   "outputs": [],
   "source": [
    "def stuff(): \n",
    "    import os\n",
    "    import re\n",
    "    import json\n",
    "    import requests\n",
    "    import ipykernel\n",
    "    from pywwt.jupyter_relay import _compute_notebook_server_base_url, _list_running_servers_jl3\n",
    "    kernel_id = re.search(\n",
    "        \"kernel-(.*).json\", ipykernel.connect.get_connection_file()\n",
    "    ).group(1)\n",
    "    running_server_info = list(_list_running_servers_jl3())\n",
    "    for s in running_server_info:\n",
    "        # We need an API token that in most cases is provided in the runtime\n",
    "        # JSON files. In (recent versions of?) the JupyterHub single-user\n",
    "        # server, it seems that the token is instead obtained from an\n",
    "        # environment variable. Cf.\n",
    "        # https://github.com/jupyterhub/jupyterhub/blob/master/jupyterhub/singleuser/mixins.py\n",
    "        token = s.get(\"token\", \"\")\n",
    "        if not token:\n",
    "            token = os.environ.get(\"JUPYTERHUB_API_TOKEN\", \"\")\n",
    "        if not token:\n",
    "            token = os.environ.get(\"JPY_API_TOKEN\", \"\")  # deprecated as of 0.7.2\n",
    "\n",
    "        # Request/response paranoia due to \"fun\" figuring out how to fix the\n",
    "        # JupyterHub single-user problem - the API call would fail due to auth\n",
    "        # issues and break pywwt, even though there was only one running server\n",
    "        # so we actually didn't even need the API call. In case something breaks\n",
    "        # in the future, add a fallback mode.\n",
    "        try:\n",
    "            response = requests.get(\n",
    "                requests.compat.urljoin(s[\"url\"], \"api/sessions\"),\n",
    "                params={\"token\": token},\n",
    "            )\n",
    "\n",
    "            for n in json.loads(response.text):\n",
    "                print(n)\n",
    "                if n[\"kernel\"][\"id\"] == kernel_id:\n",
    "                    return s[\"base_url\"]  # Found it!\n",
    "        except Exception:\n",
    "            pass\n",
    "\n",
    "    # If we got here, we might have auth issues with the api/sessions request.\n",
    "    # If there's only one server, just give it a try.\n",
    "    if len(running_server_info) == 1:\n",
    "        print(running_server_info[0])\n",
    "        return running_server_info[0][\"base_url\"]"
   ]
  },
  {
   "cell_type": "code",
   "execution_count": null,
   "metadata": {},
   "outputs": [],
   "source": [
    "def kernel_id():\n",
    "    import re\n",
    "    import ipykernel\n",
    "    kernel_id = re.search(\n",
    "        \"kernel-(.*).json\", ipykernel.connect.get_connection_file()\n",
    "    ).group(1)\n",
    "    return kernel_id"
   ]
  },
  {
   "cell_type": "code",
   "execution_count": null,
   "metadata": {},
   "outputs": [],
   "source": [
    "def server_names():\n",
    "    from pywwt.jupyter_relay import _list_running_servers_jl3\n",
    "    servers = list(_list_running_servers_jl3())\n",
    "    return servers"
   ]
  },
  {
   "cell_type": "code",
   "execution_count": null,
   "metadata": {},
   "outputs": [],
   "source": [
    "def server_url():\n",
    "    from pywwt.jupyter_relay import _compute_notebook_server_base_url\n",
    "    return _compute_notebook_server_base_url()"
   ]
  }
 ],
 "metadata": {
  "interpreter": {
   "hash": "be6dfa053c100d5340b37ba82a9c797d1598809b9fda1ab4814b300c86f797b8"
  },
  "kernelspec": {
   "display_name": "Python 3.9.7 64-bit ('cds-test-fix': conda)",
   "name": "python3"
  },
  "language_info": {
   "codemirror_mode": {
    "name": "ipython",
    "version": 3
   },
   "file_extension": ".py",
   "mimetype": "text/x-python",
   "name": "python",
   "nbconvert_exporter": "python",
   "pygments_lexer": "ipython3",
   "version": "3.9.7"
  },
  "orig_nbformat": 4
 },
 "nbformat": 4,
 "nbformat_minor": 2
}
