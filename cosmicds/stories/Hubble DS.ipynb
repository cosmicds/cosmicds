{
 "cells": [
  {
   "cell_type": "code",
   "execution_count": 1,
   "id": "0ade1695",
   "metadata": {
    "scrolled": false
   },
   "outputs": [
    {
     "data": {
      "application/vnd.jupyter.widget-view+json": {
       "model_id": "ea0bb4defe0c400f93f53d70c5bded7a",
       "version_major": 2,
       "version_minor": 0
      },
      "text/plain": [
       "Application(components={'c-footer': Footer(), 'c-galaxy-table': Table(events=['handle_row_click'], headers=[{'…"
      ]
     },
     "metadata": {},
     "output_type": "display_data"
    }
   ],
   "source": [
    "from cosmicds.app import Application\n",
    "import warnings\n",
    "warnings.filterwarnings(\"ignore\")\n",
    "\n",
    "app = Application()\n",
    "app"
   ]
  },
  {
   "cell_type": "code",
   "execution_count": 10,
   "id": "75a76de3",
   "metadata": {},
   "outputs": [],
   "source": [
    "# to reload app.vue file without recompiling everything\n",
    "app.reload()"
   ]
  },
  {
   "cell_type": "code",
   "execution_count": null,
   "id": "fe3b11dc-e2df-41ae-b8cf-cb34d9861958",
   "metadata": {},
   "outputs": [],
   "source": []
  }
 ],
 "metadata": {
  "kernelspec": {
   "display_name": "Python 3 (ipykernel)",
   "language": "python",
   "name": "python3"
  },
  "language_info": {
   "codemirror_mode": {
    "name": "ipython",
    "version": 3
   },
   "file_extension": ".py",
   "mimetype": "text/x-python",
   "name": "python",
   "nbconvert_exporter": "python",
   "pygments_lexer": "ipython3",
   "version": "3.8.8"
  }
 },
 "nbformat": 4,
 "nbformat_minor": 5
}
