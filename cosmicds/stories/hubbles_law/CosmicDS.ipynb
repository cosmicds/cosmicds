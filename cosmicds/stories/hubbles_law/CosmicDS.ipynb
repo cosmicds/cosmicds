{
 "cells": [
  {
   "cell_type": "code",
   "execution_count": 1,
   "metadata": {
    "pycharm": {
     "name": "#%%\n"
    },
    "scrolled": false
   },
   "outputs": [
    {
     "data": {
      "application/vnd.jupyter.widget-view+json": {
       "model_id": "1cc3e5882b164cbc96cb6277144557c1",
       "version_major": 2,
       "version_minor": 0
      },
      "text/plain": [
       "Application(app_state=<ApplicationState\n",
       "  dark_mode: True\n",
       "  student: {}\n",
       "  update_db: False\n",
       "  using_voila: Fals…"
      ]
     },
     "metadata": {},
     "output_type": "display_data"
    },
    {
     "name": "stderr",
     "output_type": "stream",
     "text": [
      "/Users/Pat/Documents/GitHub/cosmicds/cosmicds/stories/hubbles_law/stages/stage_one.py:210: FutureWarning: elementwise comparison failed; returning scalar instead, but in the future will perform elementwise comparison\n",
      "  already_present = galaxy['name'] in data['name'] # Avoid duplicates\n"
     ]
    }
   ],
   "source": [
    "from warnings import filterwarnings\n",
    "\n",
    "filterwarnings(action=\"ignore\", category=UserWarning)\n",
    "\n",
    "from cosmicds.app import Application\n",
    "\n",
    "app = Application(story='hubbles_law', update_db=False)\n",
    "app"
   ]
  },
  {
   "cell_type": "code",
   "execution_count": null,
   "metadata": {},
   "outputs": [],
   "source": []
  }
 ],
 "metadata": {
  "interpreter": {
   "hash": "9135a59f2b6bc37e899a88e2ebe01548838ca5623932be13039ab85d3fb056ba"
  },
  "kernelspec": {
   "display_name": "Python 3 (ipykernel)",
   "language": "python",
   "name": "python3"
  },
  "language_info": {
   "codemirror_mode": {
    "name": "ipython",
    "version": 3
   },
   "file_extension": ".py",
   "mimetype": "text/x-python",
   "name": "python",
   "nbconvert_exporter": "python",
   "pygments_lexer": "ipython3",
   "version": "3.8.8"
  }
 },
 "nbformat": 4,
 "nbformat_minor": 2
}
